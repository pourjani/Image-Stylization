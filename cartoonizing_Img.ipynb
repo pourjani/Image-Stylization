{
 "cells": [
  {
   "cell_type": "code",
   "execution_count": 10,
   "id": "a2bbd024-a176-42f0-baa4-a13d8085071e",
   "metadata": {
    "scrolled": true
   },
   "outputs": [],
   "source": [
    "import cv2\n",
    "import numpy as np\n",
    "\n",
    "def nothing(x): # Helper Function for Trackbars\n",
    "    pass\n",
    "\n",
    "# Load the image\n",
    "image = cv2.imread('./Maryam_Mirzakhani.jpg')\n",
    "image = cv2.resize(image, (600, 600))  # Resize for better GUI performance\n",
    "\n",
    "# Create a window\n",
    "cv2.namedWindow('Cartoonizer')\n",
    "\n",
    "# Create Trackbars (Sliders)\n",
    "cv2.createTrackbar('Bilateral D', 'Cartoonizer', 9, 20, nothing)\n",
    "cv2.createTrackbar('SigmaColor', 'Cartoonizer', 75, 200, nothing)\n",
    "cv2.createTrackbar('SigmaSpace', 'Cartoonizer', 75, 200, nothing)\n",
    "cv2.createTrackbar('MedianBlur', 'Cartoonizer', 7, 20, nothing)\n",
    "cv2.createTrackbar('BlockSize', 'Cartoonizer', 9, 50, nothing)\n",
    "cv2.createTrackbar('C', 'Cartoonizer', 9, 20, nothing)\n",
    "\n",
    "while True: #  Infinite Loop for Real-Time Update\n",
    "    # Get values from trackbars\n",
    "    d = cv2.getTrackbarPos('Bilateral D', 'Cartoonizer')\n",
    "    sigmaColor = cv2.getTrackbarPos('SigmaColor', 'Cartoonizer')\n",
    "    sigmaSpace = cv2.getTrackbarPos('SigmaSpace', 'Cartoonizer')\n",
    "    median_ksize = cv2.getTrackbarPos('MedianBlur', 'Cartoonizer')\n",
    "    block_size = cv2.getTrackbarPos('BlockSize', 'Cartoonizer') # block_size: size of the area used to calculate threshold.\n",
    "    C = cv2.getTrackbarPos('C', 'Cartoonizer')\n",
    "\n",
    "    # Ensure values are valid\n",
    "    d = max(1, d) # d must be ≥ 1.\n",
    "    median_ksize = median_ksize if median_ksize % 2 == 1 else median_ksize + 1\n",
    "    block_size = block_size if block_size % 2 == 1 else block_size + 1\n",
    "\n",
    "    # Apply filters\n",
    "    color = cv2.bilateralFilter(image, d, sigmaColor, sigmaSpace)\n",
    "    gray = cv2.cvtColor(image, cv2.COLOR_BGR2GRAY)\n",
    "    gray_blur = cv2.medianBlur(gray, median_ksize)\n",
    "    edges = cv2.adaptiveThreshold(gray_blur, 255,\n",
    "                                  cv2.ADAPTIVE_THRESH_MEAN_C,\n",
    "                                  cv2.THRESH_BINARY,\n",
    "                                  block_size,\n",
    "                                  C)\n",
    "    cartoon = cv2.bitwise_and(color, color, mask=edges)\n",
    "\n",
    "    # Show result\n",
    "    cv2.imshow('Cartoonizer', cartoon)\n",
    "\n",
    "    key = cv2.waitKey(1) & 0xFF\n",
    "    if key == ord('s'):  # Press 's' to save the cartoon image\n",
    "        cv2.imwrite('cartoon_output.jpg', cartoon)\n",
    "        print(\"Image saved as cartoon_output.jpg\")\n",
    "    if key == 27:  # ESC to break\n",
    "        break\n",
    "\n",
    "cv2.destroyAllWindows()\n"
   ]
  }
 ],
 "metadata": {
  "kernelspec": {
   "display_name": "Python 3 (ipykernel)",
   "language": "python",
   "name": "python3"
  },
  "language_info": {
   "codemirror_mode": {
    "name": "ipython",
    "version": 3
   },
   "file_extension": ".py",
   "mimetype": "text/x-python",
   "name": "python",
   "nbconvert_exporter": "python",
   "pygments_lexer": "ipython3",
   "version": "3.13.5"
  }
 },
 "nbformat": 4,
 "nbformat_minor": 5
}
