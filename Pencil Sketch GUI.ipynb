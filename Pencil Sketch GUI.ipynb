{
 "cells": [
  {
   "cell_type": "code",
   "execution_count": 18,
   "id": "96429bc6-3dec-452f-965b-b97a727e49f7",
   "metadata": {},
   "outputs": [],
   "source": [
    "import numpy as np\n",
    "import cv2"
   ]
  },
  {
   "cell_type": "code",
   "execution_count": 19,
   "id": "c2d491ec-8d73-4a8e-b6bf-b8e3539e3c58",
   "metadata": {},
   "outputs": [],
   "source": [
    "def pencil_sketch(img,ksize,gamma): #gamma should be in range of 0 to 1\n",
    "    gray = cv2.cvtColor(img,cv2.COLOR_BGR2GRAY)\n",
    "    # Apply Gaussian Blur and Division for Sketch Effect\n",
    "    blur = cv2.GaussianBlur(gray,(ksize,ksize),0)\n",
    "    division_img = cv2.divide(gray,blur,scale = 256) #Highlights edges (where gray / blur has high contrast).\n",
    "  \n",
    "    if gamma == 0:\n",
    "        gamma = 0.01\n",
    "    elif gamma < 0:\n",
    "        raise Exception('Can not be negative','Gamma value cannot be negative.')\n",
    "    elif gamma > 1:\n",
    "        raise Exception('Can not be greater than one','Gamma value cannot be greater than one.')\n",
    "    invgamma = 1/gamma\n",
    "    lut = np.array([((i/255)** invgamma)*255 for i in range(0,256)]) #This LUT maps every pixel value (0–255) through the gamma correction formula.\n",
    "    pencil_sketch_img = cv2.LUT(division_img.astype('uint8'),lut.astype('uint8'))\n",
    "    \n",
    "    return pencil_sketch_img "
   ]
  },
  {
   "cell_type": "markdown",
   "id": "5f338aff-f045-4717-bab9-ff2a8e0184fd",
   "metadata": {},
   "source": [
    "# GUI\n",
    "\n"
   ]
  },
  {
   "cell_type": "code",
   "execution_count": 20,
   "id": "c8ab23d2-5573-48fd-989f-006807311f0c",
   "metadata": {},
   "outputs": [],
   "source": [
    "img = cv2.imread('./Maryam_Mirzakhani.jpg')\n",
    "cv2.imshow('Original',img)\n",
    "\n",
    "cv2.namedWindow('Control Pannel')\n",
    "cv2.createTrackbar('ksize','Control Pannel',1,100,(lambda x:None))\n",
    "cv2.createTrackbar('gamma','Control Pannel',1,100,(lambda x:None))\n",
    "\n",
    "while True:\n",
    "\n",
    "    k = cv2.getTrackbarPos('ksize','Control Pannel')\n",
    "    k = 2*k + 1 \n",
    "    \n",
    "    g = cv2.getTrackbarPos('gamma','Control Pannel')\n",
    "    g = g/100\n",
    "    pencil_img = pencil_sketch(img,k,g)\n",
    "    cv2.imshow('pencil sketch',pencil_img)\n",
    "    if cv2.waitKey(1) == 27:\n",
    "        break\n",
    "cv2.destroyAllWindows()\n"
   ]
  }
 ],
 "metadata": {
  "kernelspec": {
   "display_name": "Python 3 (ipykernel)",
   "language": "python",
   "name": "python3"
  },
  "language_info": {
   "codemirror_mode": {
    "name": "ipython",
    "version": 3
   },
   "file_extension": ".py",
   "mimetype": "text/x-python",
   "name": "python",
   "nbconvert_exporter": "python",
   "pygments_lexer": "ipython3",
   "version": "3.13.3"
  }
 },
 "nbformat": 4,
 "nbformat_minor": 5
}
